{
 "cells": [
  {
   "cell_type": "code",
   "execution_count": 8,
   "id": "f0900730",
   "metadata": {},
   "outputs": [],
   "source": [
    "# import libraries\n",
    "\n",
    "import pandas as pd\n",
    "import numpy as np\n",
    "import matplotlib.pyplot as plt\n",
    "from wordcloud import WordCloud,STOPWORDS\n",
    "\n",
    "%matplotlib inline"
   ]
  },
  {
   "cell_type": "code",
   "execution_count": 9,
   "id": "006a0e53",
   "metadata": {},
   "outputs": [
    {
     "data": {
      "text/html": [
       "<div>\n",
       "<style scoped>\n",
       "    .dataframe tbody tr th:only-of-type {\n",
       "        vertical-align: middle;\n",
       "    }\n",
       "\n",
       "    .dataframe tbody tr th {\n",
       "        vertical-align: top;\n",
       "    }\n",
       "\n",
       "    .dataframe thead th {\n",
       "        text-align: right;\n",
       "    }\n",
       "</style>\n",
       "<table border=\"1\" class=\"dataframe\">\n",
       "  <thead>\n",
       "    <tr style=\"text-align: right;\">\n",
       "      <th></th>\n",
       "      <th>Message</th>\n",
       "      <th>Class_Label</th>\n",
       "    </tr>\n",
       "  </thead>\n",
       "  <tbody>\n",
       "    <tr>\n",
       "      <th>0</th>\n",
       "      <td>'Go until jurong point</td>\n",
       "      <td>ham</td>\n",
       "    </tr>\n",
       "    <tr>\n",
       "      <th>1</th>\n",
       "      <td>'Ok lar... Joking wif u oni...'</td>\n",
       "      <td>ham</td>\n",
       "    </tr>\n",
       "    <tr>\n",
       "      <th>2</th>\n",
       "      <td>'Free entry in 2 a wkly comp to win FA Cup fin...</td>\n",
       "      <td>spam</td>\n",
       "    </tr>\n",
       "    <tr>\n",
       "      <th>3</th>\n",
       "      <td>'U dun say so early hor... U c already then sa...</td>\n",
       "      <td>ham</td>\n",
       "    </tr>\n",
       "    <tr>\n",
       "      <th>4</th>\n",
       "      <td>'Nah I don\\'t think he goes to usf</td>\n",
       "      <td>ham</td>\n",
       "    </tr>\n",
       "  </tbody>\n",
       "</table>\n",
       "</div>"
      ],
      "text/plain": [
       "                                             Message Class_Label\n",
       "0                             'Go until jurong point         ham\n",
       "1                    'Ok lar... Joking wif u oni...'         ham\n",
       "2  'Free entry in 2 a wkly comp to win FA Cup fin...        spam\n",
       "3  'U dun say so early hor... U c already then sa...         ham\n",
       "4                 'Nah I don\\'t think he goes to usf         ham"
      ]
     },
     "execution_count": 9,
     "metadata": {},
     "output_type": "execute_result"
    }
   ],
   "source": [
    "df=pd.read_csv(\"SMS-Messages2.csv\")\n",
    "df.head()"
   ]
  },
  {
   "cell_type": "code",
   "execution_count": 10,
   "id": "a2603c9e",
   "metadata": {},
   "outputs": [
    {
     "data": {
      "text/plain": [
       "(200, 2)"
      ]
     },
     "execution_count": 10,
     "metadata": {},
     "output_type": "execute_result"
    }
   ],
   "source": [
    "df.shape"
   ]
  },
  {
   "cell_type": "code",
   "execution_count": 11,
   "id": "407183b6",
   "metadata": {},
   "outputs": [
    {
     "data": {
      "text/plain": [
       "Index([' Message', 'Class_Label'], dtype='object')"
      ]
     },
     "execution_count": 11,
     "metadata": {},
     "output_type": "execute_result"
    }
   ],
   "source": [
    "df.columns\n"
   ]
  },
  {
   "cell_type": "code",
   "execution_count": 12,
   "id": "c672300b",
   "metadata": {},
   "outputs": [],
   "source": [
    "df.rename(columns={' Message': 'Message'}, inplace=True)\n"
   ]
  },
  {
   "cell_type": "code",
   "execution_count": 13,
   "id": "314a0bb3",
   "metadata": {},
   "outputs": [],
   "source": [
    "#Create the tokens in a seperate column in the dataframe\n",
    "\n",
    "df['words']=df['Message'].str.strip().str.split('[\\W_]+')"
   ]
  },
  {
   "cell_type": "code",
   "execution_count": 14,
   "id": "755d5f0d",
   "metadata": {},
   "outputs": [
    {
     "data": {
      "text/html": [
       "<div>\n",
       "<style scoped>\n",
       "    .dataframe tbody tr th:only-of-type {\n",
       "        vertical-align: middle;\n",
       "    }\n",
       "\n",
       "    .dataframe tbody tr th {\n",
       "        vertical-align: top;\n",
       "    }\n",
       "\n",
       "    .dataframe thead th {\n",
       "        text-align: right;\n",
       "    }\n",
       "</style>\n",
       "<table border=\"1\" class=\"dataframe\">\n",
       "  <thead>\n",
       "    <tr style=\"text-align: right;\">\n",
       "      <th></th>\n",
       "      <th>Message</th>\n",
       "      <th>Class_Label</th>\n",
       "      <th>words</th>\n",
       "    </tr>\n",
       "  </thead>\n",
       "  <tbody>\n",
       "    <tr>\n",
       "      <th>0</th>\n",
       "      <td>'Go until jurong point</td>\n",
       "      <td>ham</td>\n",
       "      <td>[, Go, until, jurong, point]</td>\n",
       "    </tr>\n",
       "    <tr>\n",
       "      <th>1</th>\n",
       "      <td>'Ok lar... Joking wif u oni...'</td>\n",
       "      <td>ham</td>\n",
       "      <td>[, Ok, lar, Joking, wif, u, oni, ]</td>\n",
       "    </tr>\n",
       "    <tr>\n",
       "      <th>2</th>\n",
       "      <td>'Free entry in 2 a wkly comp to win FA Cup fin...</td>\n",
       "      <td>spam</td>\n",
       "      <td>[, Free, entry, in, 2, a, wkly, comp, to, win,...</td>\n",
       "    </tr>\n",
       "    <tr>\n",
       "      <th>3</th>\n",
       "      <td>'U dun say so early hor... U c already then sa...</td>\n",
       "      <td>ham</td>\n",
       "      <td>[, U, dun, say, so, early, hor, U, c, already,...</td>\n",
       "    </tr>\n",
       "    <tr>\n",
       "      <th>4</th>\n",
       "      <td>'Nah I don\\'t think he goes to usf</td>\n",
       "      <td>ham</td>\n",
       "      <td>[, Nah, I, don, t, think, he, goes, to, usf]</td>\n",
       "    </tr>\n",
       "  </tbody>\n",
       "</table>\n",
       "</div>"
      ],
      "text/plain": [
       "                                             Message Class_Label  \\\n",
       "0                             'Go until jurong point         ham   \n",
       "1                    'Ok lar... Joking wif u oni...'         ham   \n",
       "2  'Free entry in 2 a wkly comp to win FA Cup fin...        spam   \n",
       "3  'U dun say so early hor... U c already then sa...         ham   \n",
       "4                 'Nah I don\\'t think he goes to usf         ham   \n",
       "\n",
       "                                               words  \n",
       "0                       [, Go, until, jurong, point]  \n",
       "1                 [, Ok, lar, Joking, wif, u, oni, ]  \n",
       "2  [, Free, entry, in, 2, a, wkly, comp, to, win,...  \n",
       "3  [, U, dun, say, so, early, hor, U, c, already,...  \n",
       "4       [, Nah, I, don, t, think, he, goes, to, usf]  "
      ]
     },
     "execution_count": 14,
     "metadata": {},
     "output_type": "execute_result"
    }
   ],
   "source": [
    "df.head()"
   ]
  },
  {
   "cell_type": "markdown",
   "id": "4356cad4",
   "metadata": {},
   "source": [
    "The code `df['words'] = df['Message'].str.strip().str.split('[\\W_]+')` is performing the following actions:\n",
    "\n",
    "1. `df['Message'].str.strip()`: This part takes the 'Message' column of the DataFrame `df` and applies the `strip()` method to remove any leading or trailing whitespace from each string in the column. The `str.strip()` function operates on each element of the 'Message' column, treating them as strings.\n",
    "\n",
    "2. `.str.split('[\\W_]+')`: This part further processes each string in the 'Message' column after stripping whitespace. It uses the `str.split()` method to split each string into a list of substrings based on the provided regular expression pattern `[`\\W_]+`. Here's what this regular expression pattern does:\n",
    "   - `[\\W_]`: Matches any non-word character or underscore.\n",
    "   - `+`: Matches one or more occurrences of the preceding character or group (in this case, non-word characters or underscores).\n",
    "   Therefore, the string is split into tokens wherever one or more non-word characters or underscores occur.\n",
    "\n",
    "3. Finally, the result of the split operation is assigned to a new column named 'words' in the DataFrame `df`. This new column contains lists of tokens obtained from splitting each 'Message' string.\n",
    "\n",
    "In summary, this line of code is splitting the text in the 'Message' column into tokens based on non-word characters (including underscores) and storing the resulting lists of tokens in a new column called 'words' in the DataFrame `df`."
   ]
  },
  {
   "cell_type": "code",
   "execution_count": 15,
   "id": "a904b9ca",
   "metadata": {},
   "outputs": [
    {
     "data": {
      "image/png": "[encoded data removed]",
      "text/plain": [
       "<Figure size 640x480 with 1 Axes>"
      ]
     },
     "metadata": {},
     "output_type": "display_data"
    }
   ],
   "source": [
    "## Explore the data\n",
    "\n",
    "count_classes=pd.value_counts(df['Class_Label'],sort=True)\n",
    "count_classes.plot(kind='bar',color=['blue','orange'])\n",
    "plt.title(\"Bar Chart\")\n",
    "plt.show()"
   ]
  },
  {
   "cell_type": "code",
   "execution_count": 16,
   "id": "aadddbe8",
   "metadata": {},
   "outputs": [],
   "source": [
    "df['length']=df['Message'].apply(len)"
   ]
  },
  {
   "cell_type": "code",
   "execution_count": 17,
   "id": "9eea58df",
   "metadata": {},
   "outputs": [
    {
     "data": {
      "text/html": [
       "<div>\n",
       "<style scoped>\n",
       "    .dataframe tbody tr th:only-of-type {\n",
       "        vertical-align: middle;\n",
       "    }\n",
       "\n",
       "    .dataframe tbody tr th {\n",
       "        vertical-align: top;\n",
       "    }\n",
       "\n",
       "    .dataframe thead th {\n",
       "        text-align: right;\n",
       "    }\n",
       "</style>\n",
       "<table border=\"1\" class=\"dataframe\">\n",
       "  <thead>\n",
       "    <tr style=\"text-align: right;\">\n",
       "      <th></th>\n",
       "      <th>Message</th>\n",
       "      <th>Class_Label</th>\n",
       "      <th>words</th>\n",
       "      <th>length</th>\n",
       "    </tr>\n",
       "  </thead>\n",
       "  <tbody>\n",
       "    <tr>\n",
       "      <th>0</th>\n",
       "      <td>'Go until jurong point</td>\n",
       "      <td>ham</td>\n",
       "      <td>[, Go, until, jurong, point]</td>\n",
       "      <td>22</td>\n",
       "    </tr>\n",
       "    <tr>\n",
       "      <th>1</th>\n",
       "      <td>'Ok lar... Joking wif u oni...'</td>\n",
       "      <td>ham</td>\n",
       "      <td>[, Ok, lar, Joking, wif, u, oni, ]</td>\n",
       "      <td>31</td>\n",
       "    </tr>\n",
       "    <tr>\n",
       "      <th>2</th>\n",
       "      <td>'Free entry in 2 a wkly comp to win FA Cup fin...</td>\n",
       "      <td>spam</td>\n",
       "      <td>[, Free, entry, in, 2, a, wkly, comp, to, win,...</td>\n",
       "      <td>159</td>\n",
       "    </tr>\n",
       "    <tr>\n",
       "      <th>3</th>\n",
       "      <td>'U dun say so early hor... U c already then sa...</td>\n",
       "      <td>ham</td>\n",
       "      <td>[, U, dun, say, so, early, hor, U, c, already,...</td>\n",
       "      <td>51</td>\n",
       "    </tr>\n",
       "    <tr>\n",
       "      <th>4</th>\n",
       "      <td>'Nah I don\\'t think he goes to usf</td>\n",
       "      <td>ham</td>\n",
       "      <td>[, Nah, I, don, t, think, he, goes, to, usf]</td>\n",
       "      <td>34</td>\n",
       "    </tr>\n",
       "    <tr>\n",
       "      <th>...</th>\n",
       "      <td>...</td>\n",
       "      <td>...</td>\n",
       "      <td>...</td>\n",
       "      <td>...</td>\n",
       "    </tr>\n",
       "    <tr>\n",
       "      <th>195</th>\n",
       "      <td>'How are you doing? Hope you\\'ve settled in fo...</td>\n",
       "      <td>ham</td>\n",
       "      <td>[, How, are, you, doing, Hope, you, ve, settle...</td>\n",
       "      <td>95</td>\n",
       "    </tr>\n",
       "    <tr>\n",
       "      <th>196</th>\n",
       "      <td>'Gud mrng dear hav a nice day'</td>\n",
       "      <td>ham</td>\n",
       "      <td>[, Gud, mrng, dear, hav, a, nice, day, ]</td>\n",
       "      <td>30</td>\n",
       "    </tr>\n",
       "    <tr>\n",
       "      <th>197</th>\n",
       "      <td>'Did u got that persons story'</td>\n",
       "      <td>ham</td>\n",
       "      <td>[, Did, u, got, that, persons, story, ]</td>\n",
       "      <td>30</td>\n",
       "    </tr>\n",
       "    <tr>\n",
       "      <th>198</th>\n",
       "      <td>'is your hamster dead? Hey so tmr i meet you a...</td>\n",
       "      <td>ham</td>\n",
       "      <td>[, is, your, hamster, dead, Hey, so, tmr, i, m...</td>\n",
       "      <td>66</td>\n",
       "    </tr>\n",
       "    <tr>\n",
       "      <th>199</th>\n",
       "      <td>'Hi its Kate how is your evening? I hope i can...</td>\n",
       "      <td>ham</td>\n",
       "      <td>[, Hi, its, Kate, how, is, your, evening, I, h...</td>\n",
       "      <td>133</td>\n",
       "    </tr>\n",
       "  </tbody>\n",
       "</table>\n",
       "<p>200 rows × 4 columns</p>\n",
       "</div>"
      ],
      "text/plain": [
       "                                               Message Class_Label  \\\n",
       "0                               'Go until jurong point         ham   \n",
       "1                      'Ok lar... Joking wif u oni...'         ham   \n",
       "2    'Free entry in 2 a wkly comp to win FA Cup fin...        spam   \n",
       "3    'U dun say so early hor... U c already then sa...         ham   \n",
       "4                   'Nah I don\\'t think he goes to usf         ham   \n",
       "..                                                 ...         ...   \n",
       "195  'How are you doing? Hope you\\'ve settled in fo...         ham   \n",
       "196                     'Gud mrng dear hav a nice day'         ham   \n",
       "197                     'Did u got that persons story'         ham   \n",
       "198  'is your hamster dead? Hey so tmr i meet you a...         ham   \n",
       "199  'Hi its Kate how is your evening? I hope i can...         ham   \n",
       "\n",
       "                                                 words  length  \n",
       "0                         [, Go, until, jurong, point]      22  \n",
       "1                   [, Ok, lar, Joking, wif, u, oni, ]      31  \n",
       "2    [, Free, entry, in, 2, a, wkly, comp, to, win,...     159  \n",
       "3    [, U, dun, say, so, early, hor, U, c, already,...      51  \n",
       "4         [, Nah, I, don, t, think, he, goes, to, usf]      34  \n",
       "..                                                 ...     ...  \n",
       "195  [, How, are, you, doing, Hope, you, ve, settle...      95  \n",
       "196           [, Gud, mrng, dear, hav, a, nice, day, ]      30  \n",
       "197            [, Did, u, got, that, persons, story, ]      30  \n",
       "198  [, is, your, hamster, dead, Hey, so, tmr, i, m...      66  \n",
       "199  [, Hi, its, Kate, how, is, your, evening, I, h...     133  \n",
       "\n",
       "[200 rows x 4 columns]"
      ]
     },
     "execution_count": 17,
     "metadata": {},
     "output_type": "execute_result"
    }
   ],
   "source": [
    "df"
   ]
  },
  {
   "cell_type": "code",
   "execution_count": 19,
   "id": "883ad87d",
   "metadata": {},
   "outputs": [
    {
     "data": {
      "text/plain": [
       "(200, 841)"
      ]
     },
     "execution_count": 19,
     "metadata": {},
     "output_type": "execute_result"
    }
   ],
   "source": [
    "## Create Bag of Words using Countvectorizer\n",
    "from sklearn.feature_extraction.text import CountVectorizer\n",
    "cv=CountVectorizer(stop_words='english')\n",
    "\n",
    "X=cv.fit_transform(df['Message'])\n",
    "X.shape"
   ]
  },
  {
   "cell_type": "code",
   "execution_count": 20,
   "id": "cd685d84",
   "metadata": {},
   "outputs": [
    {
     "data": {
      "text/plain": [
       "(200, 4)"
      ]
     },
     "execution_count": 20,
     "metadata": {},
     "output_type": "execute_result"
    }
   ],
   "source": [
    "df.shape"
   ]
  },
  {
   "cell_type": "code",
   "execution_count": 21,
   "id": "ac1a4bc1",
   "metadata": {},
   "outputs": [],
   "source": [
    "## One hot encoding for target Variable\n",
    "\n",
    "Y=df['Class_Label'].map({'spam':1,'ham':0})"
   ]
  },
  {
   "cell_type": "code",
   "execution_count": 22,
   "id": "31e13735",
   "metadata": {},
   "outputs": [
    {
     "data": {
      "text/plain": [
       "0      0\n",
       "1      0\n",
       "2      1\n",
       "3      0\n",
       "4      0\n",
       "      ..\n",
       "195    0\n",
       "196    0\n",
       "197    0\n",
       "198    0\n",
       "199    0\n",
       "Name: Class_Label, Length: 200, dtype: int64"
      ]
     },
     "execution_count": 22,
     "metadata": {},
     "output_type": "execute_result"
    }
   ],
   "source": [
    "Y"
   ]
  },
  {
   "cell_type": "code",
   "execution_count": 23,
   "id": "7da2c641",
   "metadata": {},
   "outputs": [],
   "source": [
    "## Create train and Test Data\n",
    "\n",
    "from sklearn.model_selection import train_test_split\n",
    "x_train,x_test,y_train,y_test=train_test_split(X,Y,test_size=0.25,random_state=4)"
   ]
  },
  {
   "cell_type": "code",
   "execution_count": 25,
   "id": "cffd242e",
   "metadata": {},
   "outputs": [
    {
     "name": "stdout",
     "output_type": "stream",
     "text": [
      "(150, 841)\n",
      "(50, 841)\n"
     ]
    }
   ],
   "source": [
    "print(x_train.shape)\n",
    "print(x_test.shape)"
   ]
  },
  {
   "cell_type": "code",
   "execution_count": 27,
   "id": "48ca05fe",
   "metadata": {},
   "outputs": [],
   "source": [
    "## Build a Naive Bayesian Model\n",
    "\n",
    "from sklearn.naive_bayes import MultinomialNB\n",
    "from sklearn.metrics import accuracy_score"
   ]
  },
  {
   "cell_type": "code",
   "execution_count": 29,
   "id": "4cdaf5e7",
   "metadata": {},
   "outputs": [
    {
     "data": {
      "text/plain": [
       "0.9"
      ]
     },
     "execution_count": 29,
     "metadata": {},
     "output_type": "execute_result"
    }
   ],
   "source": [
    "mdl=MultinomialNB(alpha=0.2)\n",
    "mdl.fit(x_train,y_train)\n",
    "y_pred=mdl.predict(x_test)\n",
    "\n",
    "accuracy_score(y_pred,y_test)"
   ]
  },
  {
   "cell_type": "code",
   "execution_count": 31,
   "id": "10c54cf0",
   "metadata": {},
   "outputs": [
    {
     "name": "stdout",
     "output_type": "stream",
     "text": [
      "     Class_Label\n",
      "11             1\n",
      "99             0\n",
      "128            0\n"
     ]
    },
    {
     "data": {
      "text/plain": [
       "<bound method NDFrame.head of      Class_Label  Prediction\n",
       "11             1           1\n",
       "99             0           1\n",
       "128            0           0\n",
       "175            0           0\n",
       "1              0           0\n",
       "111            0           1\n",
       "90             0           0\n",
       "177            0           0\n",
       "88             0           0\n",
       "187            0           0\n",
       "61             0           0\n",
       "199            0           0\n",
       "191            1           1\n",
       "123            1           1\n",
       "184            0           0\n",
       "188            1           1\n",
       "33             0           0\n",
       "171            0           0\n",
       "138            0           0\n",
       "84             0           0\n",
       "81             0           0\n",
       "102            0           0\n",
       "147            1           1\n",
       "34             1           1\n",
       "47             0           0\n",
       "124            0           0\n",
       "112            0           0\n",
       "6              0           0\n",
       "14             0           0\n",
       "190            0           0\n",
       "80             0           0\n",
       "18             0           0\n",
       "167            1           1\n",
       "45             0           1\n",
       "153            0           1\n",
       "119            0           0\n",
       "100            0           0\n",
       "83             0           0\n",
       "181            0           0\n",
       "71             0           0\n",
       "26             0           0\n",
       "134            1           1\n",
       "180            0           0\n",
       "158            0           0\n",
       "189            0           0\n",
       "89             0           0\n",
       "48             0           0\n",
       "116            0           0\n",
       "12             1           1\n",
       "69             0           1>"
      ]
     },
     "execution_count": 31,
     "metadata": {},
     "output_type": "execute_result"
    }
   ],
   "source": [
    "test_df=pd.DataFrame(y_test)\n",
    "print(test_df.head(3))\n",
    "\n",
    "test_df['Prediction']=y_pred\n",
    "test_df.head"
   ]
  },
  {
   "cell_type": "code",
   "execution_count": 33,
   "id": "87d1943a",
   "metadata": {},
   "outputs": [
    {
     "data": {
      "text/html": [
       "<div>\n",
       "<style scoped>\n",
       "    .dataframe tbody tr th:only-of-type {\n",
       "        vertical-align: middle;\n",
       "    }\n",
       "\n",
       "    .dataframe tbody tr th {\n",
       "        vertical-align: top;\n",
       "    }\n",
       "\n",
       "    .dataframe thead th {\n",
       "        text-align: right;\n",
       "    }\n",
       "</style>\n",
       "<table border=\"1\" class=\"dataframe\">\n",
       "  <thead>\n",
       "    <tr style=\"text-align: right;\">\n",
       "      <th></th>\n",
       "      <th>Class_Label</th>\n",
       "      <th>Prediction</th>\n",
       "    </tr>\n",
       "  </thead>\n",
       "  <tbody>\n",
       "    <tr>\n",
       "      <th>11</th>\n",
       "      <td>1</td>\n",
       "      <td>1</td>\n",
       "    </tr>\n",
       "    <tr>\n",
       "      <th>99</th>\n",
       "      <td>0</td>\n",
       "      <td>1</td>\n",
       "    </tr>\n",
       "  </tbody>\n",
       "</table>\n",
       "</div>"
      ],
      "text/plain": [
       "    Class_Label  Prediction\n",
       "11            1           1\n",
       "99            0           1"
      ]
     },
     "execution_count": 33,
     "metadata": {},
     "output_type": "execute_result"
    }
   ],
   "source": [
    "test_df.head(2)"
   ]
  },
  {
   "cell_type": "code",
   "execution_count": 34,
   "id": "a7158522",
   "metadata": {},
   "outputs": [
    {
     "data": {
      "text/html": [
       "<div>\n",
       "<style scoped>\n",
       "    .dataframe tbody tr th:only-of-type {\n",
       "        vertical-align: middle;\n",
       "    }\n",
       "\n",
       "    .dataframe tbody tr th {\n",
       "        vertical-align: top;\n",
       "    }\n",
       "\n",
       "    .dataframe thead th {\n",
       "        text-align: right;\n",
       "    }\n",
       "</style>\n",
       "<table border=\"1\" class=\"dataframe\">\n",
       "  <thead>\n",
       "    <tr style=\"text-align: right;\">\n",
       "      <th>Prediction</th>\n",
       "      <th>0</th>\n",
       "      <th>1</th>\n",
       "    </tr>\n",
       "    <tr>\n",
       "      <th>Class_Label</th>\n",
       "      <th></th>\n",
       "      <th></th>\n",
       "    </tr>\n",
       "  </thead>\n",
       "  <tbody>\n",
       "    <tr>\n",
       "      <th>0</th>\n",
       "      <td>36</td>\n",
       "      <td>5</td>\n",
       "    </tr>\n",
       "    <tr>\n",
       "      <th>1</th>\n",
       "      <td>0</td>\n",
       "      <td>9</td>\n",
       "    </tr>\n",
       "  </tbody>\n",
       "</table>\n",
       "</div>"
      ],
      "text/plain": [
       "Prediction    0  1\n",
       "Class_Label       \n",
       "0            36  5\n",
       "1             0  9"
      ]
     },
     "execution_count": 34,
     "metadata": {},
     "output_type": "execute_result"
    }
   ],
   "source": [
    "## Confusion matrix for naive bayes\n",
    "\n",
    "pd.crosstab(test_df['Class_Label'],test_df['Prediction'])"
   ]
  },
  {
   "cell_type": "code",
   "execution_count": 35,
   "id": "eef2d7f1",
   "metadata": {},
   "outputs": [],
   "source": [
    "## Build SVM Model\n",
    "\n",
    "from sklearn.metrics import accuracy_score\n",
    "from sklearn.svm import SVC"
   ]
  },
  {
   "cell_type": "code",
   "execution_count": 37,
   "id": "df9686ca",
   "metadata": {},
   "outputs": [
    {
     "data": {
      "text/plain": [
       "0.84"
      ]
     },
     "execution_count": 37,
     "metadata": {},
     "output_type": "execute_result"
    }
   ],
   "source": [
    "svc=SVC()\n",
    "svc.fit(x_train,y_train)\n",
    "y_pred=svc.predict(x_test)\n",
    "\n",
    "accuracy_score(y_pred,y_test)"
   ]
  },
  {
   "cell_type": "code",
   "execution_count": 38,
   "id": "8e599c09",
   "metadata": {},
   "outputs": [
    {
     "data": {
      "text/plain": [
       "0.96"
      ]
     },
     "execution_count": 38,
     "metadata": {},
     "output_type": "execute_result"
    }
   ],
   "source": [
    "svc=SVC(kernel='sigmoid',gamma=1.0)\n",
    "svc.fit(x_train,y_train)\n",
    "y_pred=svc.predict(x_test)\n",
    "\n",
    "accuracy_score(y_pred,y_test)"
   ]
  },
  {
   "cell_type": "code",
   "execution_count": 39,
   "id": "958d36cd",
   "metadata": {},
   "outputs": [
    {
     "data": {
      "text/plain": [
       "array([[41,  0],\n",
       "       [ 2,  7]], dtype=int64)"
      ]
     },
     "execution_count": 39,
     "metadata": {},
     "output_type": "execute_result"
    }
   ],
   "source": [
    "from sklearn.metrics import confusion_matrix\n",
    "confusion_matrix(y_test,y_pred)"
   ]
  },
  {
   "cell_type": "code",
   "execution_count": 41,
   "id": "8fb873cd",
   "metadata": {},
   "outputs": [],
   "source": [
    "test_df=pd.DataFrame(y_test)"
   ]
  },
  {
   "cell_type": "code",
   "execution_count": 42,
   "id": "a81e58ef",
   "metadata": {},
   "outputs": [
    {
     "data": {
      "text/html": [
       "<div>\n",
       "<style scoped>\n",
       "    .dataframe tbody tr th:only-of-type {\n",
       "        vertical-align: middle;\n",
       "    }\n",
       "\n",
       "    .dataframe tbody tr th {\n",
       "        vertical-align: top;\n",
       "    }\n",
       "\n",
       "    .dataframe thead th {\n",
       "        text-align: right;\n",
       "    }\n",
       "</style>\n",
       "<table border=\"1\" class=\"dataframe\">\n",
       "  <thead>\n",
       "    <tr style=\"text-align: right;\">\n",
       "      <th></th>\n",
       "      <th>Class_Label</th>\n",
       "      <th>Prediction</th>\n",
       "    </tr>\n",
       "  </thead>\n",
       "  <tbody>\n",
       "    <tr>\n",
       "      <th>11</th>\n",
       "      <td>1</td>\n",
       "      <td>0</td>\n",
       "    </tr>\n",
       "    <tr>\n",
       "      <th>99</th>\n",
       "      <td>0</td>\n",
       "      <td>0</td>\n",
       "    </tr>\n",
       "    <tr>\n",
       "      <th>128</th>\n",
       "      <td>0</td>\n",
       "      <td>0</td>\n",
       "    </tr>\n",
       "    <tr>\n",
       "      <th>175</th>\n",
       "      <td>0</td>\n",
       "      <td>0</td>\n",
       "    </tr>\n",
       "  </tbody>\n",
       "</table>\n",
       "</div>"
      ],
      "text/plain": [
       "     Class_Label  Prediction\n",
       "11             1           0\n",
       "99             0           0\n",
       "128            0           0\n",
       "175            0           0"
      ]
     },
     "execution_count": 42,
     "metadata": {},
     "output_type": "execute_result"
    }
   ],
   "source": [
    "test_df['Prediction']=y_pred\n",
    "test_df.head(4)"
   ]
  },
  {
   "cell_type": "code",
   "execution_count": 43,
   "id": "819a3a9f",
   "metadata": {},
   "outputs": [
    {
     "data": {
      "text/html": [
       "<div>\n",
       "<style scoped>\n",
       "    .dataframe tbody tr th:only-of-type {\n",
       "        vertical-align: middle;\n",
       "    }\n",
       "\n",
       "    .dataframe tbody tr th {\n",
       "        vertical-align: top;\n",
       "    }\n",
       "\n",
       "    .dataframe thead th {\n",
       "        text-align: right;\n",
       "    }\n",
       "</style>\n",
       "<table border=\"1\" class=\"dataframe\">\n",
       "  <thead>\n",
       "    <tr style=\"text-align: right;\">\n",
       "      <th>Prediction</th>\n",
       "      <th>0</th>\n",
       "      <th>1</th>\n",
       "    </tr>\n",
       "    <tr>\n",
       "      <th>Class_Label</th>\n",
       "      <th></th>\n",
       "      <th></th>\n",
       "    </tr>\n",
       "  </thead>\n",
       "  <tbody>\n",
       "    <tr>\n",
       "      <th>0</th>\n",
       "      <td>41</td>\n",
       "      <td>0</td>\n",
       "    </tr>\n",
       "    <tr>\n",
       "      <th>1</th>\n",
       "      <td>2</td>\n",
       "      <td>7</td>\n",
       "    </tr>\n",
       "  </tbody>\n",
       "</table>\n",
       "</div>"
      ],
      "text/plain": [
       "Prediction    0  1\n",
       "Class_Label       \n",
       "0            41  0\n",
       "1             2  7"
      ]
     },
     "execution_count": 43,
     "metadata": {},
     "output_type": "execute_result"
    }
   ],
   "source": [
    "pd.crosstab(test_df.Class_Label,test_df.Prediction)   "
   ]
  },
  {
   "cell_type": "markdown",
   "id": "8de18bdb",
   "metadata": {},
   "source": [
    "#### ability to cover Spam=1 is less here compared to Naive Bayes"
   ]
  },
  {
   "cell_type": "code",
   "execution_count": 44,
   "id": "39019ff6",
   "metadata": {},
   "outputs": [],
   "source": [
    "## Random Forest Classifier\n",
    "\n",
    "from sklearn.ensemble import RandomForestClassifier\n"
   ]
  },
  {
   "cell_type": "code",
   "execution_count": 45,
   "id": "6bb17600",
   "metadata": {},
   "outputs": [
    {
     "data": {
      "text/plain": [
       "0.86"
      ]
     },
     "execution_count": 45,
     "metadata": {},
     "output_type": "execute_result"
    }
   ],
   "source": [
    "rf=RandomForestClassifier()\n",
    "rf.fit(x_train,y_train)\n",
    "y_pred=rf.predict(x_test)\n",
    "\n",
    "accuracy_score(y_test,y_pred)"
   ]
  },
  {
   "cell_type": "code",
   "execution_count": 46,
   "id": "539366de",
   "metadata": {},
   "outputs": [
    {
     "data": {
      "text/plain": [
       "0.82"
      ]
     },
     "execution_count": 46,
     "metadata": {},
     "output_type": "execute_result"
    }
   ],
   "source": [
    "rf=RandomForestClassifier(n_estimators=100,max_depth=2,random_state=0)\n",
    "rf.fit(x_train,y_train)\n",
    "y_pred=rf.predict(x_test)\n",
    "\n",
    "accuracy_score(y_test,y_pred)"
   ]
  },
  {
   "cell_type": "code",
   "execution_count": 47,
   "id": "f64052e3",
   "metadata": {},
   "outputs": [
    {
     "data": {
      "text/plain": [
       "array([[41,  0],\n",
       "       [ 9,  0]], dtype=int64)"
      ]
     },
     "execution_count": 47,
     "metadata": {},
     "output_type": "execute_result"
    }
   ],
   "source": [
    "from sklearn.metrics import confusion_matrix\n",
    "confusion_matrix(y_test,y_pred)"
   ]
  },
  {
   "cell_type": "code",
   "execution_count": 48,
   "id": "a6033888",
   "metadata": {},
   "outputs": [],
   "source": [
    "test_df=pd.DataFrame(y_test)\n",
    "test_df['prediction']=y_pred"
   ]
  },
  {
   "cell_type": "code",
   "execution_count": 49,
   "id": "e0209f7a",
   "metadata": {},
   "outputs": [
    {
     "data": {
      "text/html": [
       "<div>\n",
       "<style scoped>\n",
       "    .dataframe tbody tr th:only-of-type {\n",
       "        vertical-align: middle;\n",
       "    }\n",
       "\n",
       "    .dataframe tbody tr th {\n",
       "        vertical-align: top;\n",
       "    }\n",
       "\n",
       "    .dataframe thead th {\n",
       "        text-align: right;\n",
       "    }\n",
       "</style>\n",
       "<table border=\"1\" class=\"dataframe\">\n",
       "  <thead>\n",
       "    <tr style=\"text-align: right;\">\n",
       "      <th>prediction</th>\n",
       "      <th>0</th>\n",
       "    </tr>\n",
       "    <tr>\n",
       "      <th>Class_Label</th>\n",
       "      <th></th>\n",
       "    </tr>\n",
       "  </thead>\n",
       "  <tbody>\n",
       "    <tr>\n",
       "      <th>0</th>\n",
       "      <td>41</td>\n",
       "    </tr>\n",
       "    <tr>\n",
       "      <th>1</th>\n",
       "      <td>9</td>\n",
       "    </tr>\n",
       "  </tbody>\n",
       "</table>\n",
       "</div>"
      ],
      "text/plain": [
       "prediction    0\n",
       "Class_Label    \n",
       "0            41\n",
       "1             9"
      ]
     },
     "execution_count": 49,
     "metadata": {},
     "output_type": "execute_result"
    }
   ],
   "source": [
    "pd.crosstab(test_df.Class_Label,test_df.prediction)"
   ]
  },
  {
   "cell_type": "code",
   "execution_count": 50,
   "id": "deadf48c",
   "metadata": {},
   "outputs": [],
   "source": [
    "## Naive Bayes is best model here\n"
   ]
  },
  {
   "cell_type": "code",
   "execution_count": null,
   "id": "f8368167",
   "metadata": {},
   "outputs": [],
   "source": []
  }
 ],
 "metadata": {
  "kernelspec": {
   "display_name": "Python 3 (ipykernel)",
   "language": "python",
   "name": "python3"
  },
  "language_info": {
   "codemirror_mode": {
    "name": "ipython",
    "version": 3
   },
   "file_extension": ".py",
   "mimetype": "text/x-python",
   "name": "python",
   "nbconvert_exporter": "python",
   "pygments_lexer": "ipython3",
   "version": "3.10.9"
  }
 },
 "nbformat": 4,
 "nbformat_minor": 5
}
