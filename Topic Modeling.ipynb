{
 "cells": [
  {
   "cell_type": "code",
   "execution_count": 6,
   "id": "a246a01c",
   "metadata": {},
   "outputs": [],
   "source": [
    "## Import Packages\n",
    "\n",
    "import numpy as np\n",
    "import pandas as pd\n"
   ]
  },
  {
   "cell_type": "code",
   "execution_count": 7,
   "id": "3a53e3bf",
   "metadata": {},
   "outputs": [],
   "source": [
    "example=[\"Machine learning is super fun\",\n",
    "\"Python is super, super cool\",\n",
    "\"Statistics is cool, too\",\n",
    "\"Data science is fun\",\n",
    "\"Python is great for machine learning\",\n",
    "\"I like football\",\n",
    "\"Football is great to watch\"]"
   ]
  },
  {
   "cell_type": "code",
   "execution_count": 8,
   "id": "e6e7c5f4",
   "metadata": {},
   "outputs": [
    {
     "name": "stdout",
     "output_type": "stream",
     "text": [
      "['Machine learning is super fun', 'Python is super, super cool', 'Statistics is cool, too', 'Data science is fun', 'Python is great for machine learning', 'I like football', 'Football is great to watch']\n"
     ]
    }
   ],
   "source": [
    "print(example)"
   ]
  },
  {
   "cell_type": "code",
   "execution_count": 10,
   "id": "400457d4",
   "metadata": {},
   "outputs": [
    {
     "name": "stdout",
     "output_type": "stream",
     "text": [
      "  (0, 7)\t1\n",
      "  (0, 5)\t1\n",
      "  (0, 11)\t1\n",
      "  (0, 3)\t1\n",
      "  (1, 11)\t2\n",
      "  (1, 8)\t1\n",
      "  (1, 0)\t1\n",
      "  (2, 0)\t1\n",
      "  (2, 10)\t1\n",
      "  (3, 3)\t1\n",
      "  (3, 1)\t1\n",
      "  (3, 9)\t1\n",
      "  (4, 7)\t1\n",
      "  (4, 5)\t1\n",
      "  (4, 8)\t1\n",
      "  (4, 4)\t1\n",
      "  (5, 6)\t1\n",
      "  (5, 2)\t1\n",
      "  (6, 4)\t1\n",
      "  (6, 2)\t1\n",
      "  (6, 12)\t1\n"
     ]
    },
    {
     "data": {
      "text/html": [
       "<div>\n",
       "<style scoped>\n",
       "    .dataframe tbody tr th:only-of-type {\n",
       "        vertical-align: middle;\n",
       "    }\n",
       "\n",
       "    .dataframe tbody tr th {\n",
       "        vertical-align: top;\n",
       "    }\n",
       "\n",
       "    .dataframe thead th {\n",
       "        text-align: right;\n",
       "    }\n",
       "</style>\n",
       "<table border=\"1\" class=\"dataframe\">\n",
       "  <thead>\n",
       "    <tr style=\"text-align: right;\">\n",
       "      <th></th>\n",
       "      <th>cool</th>\n",
       "      <th>data</th>\n",
       "      <th>football</th>\n",
       "      <th>fun</th>\n",
       "      <th>great</th>\n",
       "      <th>learning</th>\n",
       "      <th>like</th>\n",
       "      <th>machine</th>\n",
       "      <th>python</th>\n",
       "      <th>science</th>\n",
       "      <th>statistics</th>\n",
       "      <th>super</th>\n",
       "      <th>watch</th>\n",
       "    </tr>\n",
       "  </thead>\n",
       "  <tbody>\n",
       "    <tr>\n",
       "      <th>Machine learning is super fun</th>\n",
       "      <td>0</td>\n",
       "      <td>0</td>\n",
       "      <td>0</td>\n",
       "      <td>1</td>\n",
       "      <td>0</td>\n",
       "      <td>1</td>\n",
       "      <td>0</td>\n",
       "      <td>1</td>\n",
       "      <td>0</td>\n",
       "      <td>0</td>\n",
       "      <td>0</td>\n",
       "      <td>1</td>\n",
       "      <td>0</td>\n",
       "    </tr>\n",
       "    <tr>\n",
       "      <th>Python is super, super cool</th>\n",
       "      <td>1</td>\n",
       "      <td>0</td>\n",
       "      <td>0</td>\n",
       "      <td>0</td>\n",
       "      <td>0</td>\n",
       "      <td>0</td>\n",
       "      <td>0</td>\n",
       "      <td>0</td>\n",
       "      <td>1</td>\n",
       "      <td>0</td>\n",
       "      <td>0</td>\n",
       "      <td>2</td>\n",
       "      <td>0</td>\n",
       "    </tr>\n",
       "    <tr>\n",
       "      <th>Statistics is cool, too</th>\n",
       "      <td>1</td>\n",
       "      <td>0</td>\n",
       "      <td>0</td>\n",
       "      <td>0</td>\n",
       "      <td>0</td>\n",
       "      <td>0</td>\n",
       "      <td>0</td>\n",
       "      <td>0</td>\n",
       "      <td>0</td>\n",
       "      <td>0</td>\n",
       "      <td>1</td>\n",
       "      <td>0</td>\n",
       "      <td>0</td>\n",
       "    </tr>\n",
       "    <tr>\n",
       "      <th>Data science is fun</th>\n",
       "      <td>0</td>\n",
       "      <td>1</td>\n",
       "      <td>0</td>\n",
       "      <td>1</td>\n",
       "      <td>0</td>\n",
       "      <td>0</td>\n",
       "      <td>0</td>\n",
       "      <td>0</td>\n",
       "      <td>0</td>\n",
       "      <td>1</td>\n",
       "      <td>0</td>\n",
       "      <td>0</td>\n",
       "      <td>0</td>\n",
       "    </tr>\n",
       "    <tr>\n",
       "      <th>Python is great for machine learning</th>\n",
       "      <td>0</td>\n",
       "      <td>0</td>\n",
       "      <td>0</td>\n",
       "      <td>0</td>\n",
       "      <td>1</td>\n",
       "      <td>1</td>\n",
       "      <td>0</td>\n",
       "      <td>1</td>\n",
       "      <td>1</td>\n",
       "      <td>0</td>\n",
       "      <td>0</td>\n",
       "      <td>0</td>\n",
       "      <td>0</td>\n",
       "    </tr>\n",
       "    <tr>\n",
       "      <th>I like football</th>\n",
       "      <td>0</td>\n",
       "      <td>0</td>\n",
       "      <td>1</td>\n",
       "      <td>0</td>\n",
       "      <td>0</td>\n",
       "      <td>0</td>\n",
       "      <td>1</td>\n",
       "      <td>0</td>\n",
       "      <td>0</td>\n",
       "      <td>0</td>\n",
       "      <td>0</td>\n",
       "      <td>0</td>\n",
       "      <td>0</td>\n",
       "    </tr>\n",
       "    <tr>\n",
       "      <th>Football is great to watch</th>\n",
       "      <td>0</td>\n",
       "      <td>0</td>\n",
       "      <td>1</td>\n",
       "      <td>0</td>\n",
       "      <td>1</td>\n",
       "      <td>0</td>\n",
       "      <td>0</td>\n",
       "      <td>0</td>\n",
       "      <td>0</td>\n",
       "      <td>0</td>\n",
       "      <td>0</td>\n",
       "      <td>0</td>\n",
       "      <td>1</td>\n",
       "    </tr>\n",
       "  </tbody>\n",
       "</table>\n",
       "</div>"
      ],
      "text/plain": [
       "                                      cool  data  football  fun  great  \\\n",
       "Machine learning is super fun            0     0         0    1      0   \n",
       "Python is super, super cool              1     0         0    0      0   \n",
       "Statistics is cool, too                  1     0         0    0      0   \n",
       "Data science is fun                      0     1         0    1      0   \n",
       "Python is great for machine learning     0     0         0    0      1   \n",
       "I like football                          0     0         1    0      0   \n",
       "Football is great to watch               0     0         1    0      1   \n",
       "\n",
       "                                      learning  like  machine  python  \\\n",
       "Machine learning is super fun                1     0        1       0   \n",
       "Python is super, super cool                  0     0        0       1   \n",
       "Statistics is cool, too                      0     0        0       0   \n",
       "Data science is fun                          0     0        0       0   \n",
       "Python is great for machine learning         1     0        1       1   \n",
       "I like football                              0     1        0       0   \n",
       "Football is great to watch                   0     0        0       0   \n",
       "\n",
       "                                      science  statistics  super  watch  \n",
       "Machine learning is super fun               0           0      1      0  \n",
       "Python is super, super cool                 0           0      2      0  \n",
       "Statistics is cool, too                     0           1      0      0  \n",
       "Data science is fun                         1           0      0      0  \n",
       "Python is great for machine learning        0           0      0      0  \n",
       "I like football                             0           0      0      0  \n",
       "Football is great to watch                  0           0      0      1  "
      ]
     },
     "execution_count": 10,
     "metadata": {},
     "output_type": "execute_result"
    }
   ],
   "source": [
    "## BOW using countvectorizer\n",
    "\n",
    "from sklearn.feature_extraction.text import CountVectorizer\n",
    "from sklearn.feature_extraction.text import TfidfVectorizer\n",
    "\n",
    "vectorizer=CountVectorizer(min_df=1,stop_words='english')\n",
    "\n",
    "X=vectorizer.fit_transform(example)\n",
    "print(X)\n",
    "X_df=pd.DataFrame(X.toarray(),index=example,columns=vectorizer.get_feature_names_out())\n",
    "X_df.head(10)"
   ]
  },
  {
   "cell_type": "code",
   "execution_count": 11,
   "id": "501ff383",
   "metadata": {},
   "outputs": [
    {
     "data": {
      "text/plain": [
       "array(['cool', 'data', 'football', 'fun', 'great', 'learning', 'like',\n",
       "       'machine', 'python', 'science', 'statistics', 'super', 'watch'],\n",
       "      dtype=object)"
      ]
     },
     "execution_count": 11,
     "metadata": {},
     "output_type": "execute_result"
    }
   ],
   "source": [
    "# Get words that correspond to each column\n",
    "\n",
    "vectorizer.get_feature_names_out()"
   ]
  },
  {
   "cell_type": "code",
   "execution_count": 12,
   "id": "b9d37a36",
   "metadata": {},
   "outputs": [],
   "source": [
    "## Topic Modeling with SVD\n",
    "\n",
    "from sklearn.decomposition import TruncatedSVD\n",
    "lsa=TruncatedSVD(2,algorithm='arpack')\n",
    "\n",
    "X_lsa=lsa.fit_transform(X.asfptype())"
   ]
  },
  {
   "cell_type": "code",
   "execution_count": 13,
   "id": "0e0831db",
   "metadata": {},
   "outputs": [
    {
     "data": {
      "text/plain": [
       "array([[ 1.57247271, -0.47650694],\n",
       "       [ 2.01590517,  1.21491855],\n",
       "       [ 0.31817376,  0.46663292],\n",
       "       [ 0.29469888, -0.297151  ],\n",
       "       [ 1.24575812, -1.21014931],\n",
       "       [ 0.03797199, -0.38114092],\n",
       "       [ 0.2405853 , -0.99233284]])"
      ]
     },
     "execution_count": 13,
     "metadata": {},
     "output_type": "execute_result"
    }
   ],
   "source": [
    "X_lsa"
   ]
  },
  {
   "cell_type": "code",
   "execution_count": 14,
   "id": "b0adfc72",
   "metadata": {},
   "outputs": [
    {
     "data": {
      "text/html": [
       "<div>\n",
       "<style scoped>\n",
       "    .dataframe tbody tr th:only-of-type {\n",
       "        vertical-align: middle;\n",
       "    }\n",
       "\n",
       "    .dataframe tbody tr th {\n",
       "        vertical-align: top;\n",
       "    }\n",
       "\n",
       "    .dataframe thead th {\n",
       "        text-align: right;\n",
       "    }\n",
       "</style>\n",
       "<table border=\"1\" class=\"dataframe\">\n",
       "  <thead>\n",
       "    <tr style=\"text-align: right;\">\n",
       "      <th></th>\n",
       "      <th>component1</th>\n",
       "      <th>component2</th>\n",
       "    </tr>\n",
       "  </thead>\n",
       "  <tbody>\n",
       "    <tr>\n",
       "      <th>Machine learning is super fun</th>\n",
       "      <td>1.572473</td>\n",
       "      <td>-0.476507</td>\n",
       "    </tr>\n",
       "    <tr>\n",
       "      <th>Python is super, super cool</th>\n",
       "      <td>2.015905</td>\n",
       "      <td>1.214919</td>\n",
       "    </tr>\n",
       "    <tr>\n",
       "      <th>Statistics is cool, too</th>\n",
       "      <td>0.318174</td>\n",
       "      <td>0.466633</td>\n",
       "    </tr>\n",
       "    <tr>\n",
       "      <th>Data science is fun</th>\n",
       "      <td>0.294699</td>\n",
       "      <td>-0.297151</td>\n",
       "    </tr>\n",
       "    <tr>\n",
       "      <th>Python is great for machine learning</th>\n",
       "      <td>1.245758</td>\n",
       "      <td>-1.210149</td>\n",
       "    </tr>\n",
       "    <tr>\n",
       "      <th>I like football</th>\n",
       "      <td>0.037972</td>\n",
       "      <td>-0.381141</td>\n",
       "    </tr>\n",
       "    <tr>\n",
       "      <th>Football is great to watch</th>\n",
       "      <td>0.240585</td>\n",
       "      <td>-0.992333</td>\n",
       "    </tr>\n",
       "  </tbody>\n",
       "</table>\n",
       "</div>"
      ],
      "text/plain": [
       "                                      component1  component2\n",
       "Machine learning is super fun           1.572473   -0.476507\n",
       "Python is super, super cool             2.015905    1.214919\n",
       "Statistics is cool, too                 0.318174    0.466633\n",
       "Data science is fun                     0.294699   -0.297151\n",
       "Python is great for machine learning    1.245758   -1.210149\n",
       "I like football                         0.037972   -0.381141\n",
       "Football is great to watch              0.240585   -0.992333"
      ]
     },
     "execution_count": 14,
     "metadata": {},
     "output_type": "execute_result"
    }
   ],
   "source": [
    "pd.DataFrame(X_lsa,index=example,columns=[\"component1\",\"component2\"])"
   ]
  },
  {
   "cell_type": "code",
   "execution_count": 16,
   "id": "100ca36c",
   "metadata": {},
   "outputs": [],
   "source": [
    "xs = [w[0] for w in X_lsa]\n",
    "ys = [w[1] for w in X_lsa]"
   ]
  },
  {
   "cell_type": "code",
   "execution_count": 17,
   "id": "36ae03d6",
   "metadata": {},
   "outputs": [
    {
     "data": {
      "text/plain": [
       "[1.5724727103402245,\n",
       " 2.015905171638841,\n",
       " 0.3181737564271848,\n",
       " 0.2946988814869813,\n",
       " 1.24575811566127,\n",
       " 0.037971989562138146,\n",
       " 0.24058530469419062]"
      ]
     },
     "execution_count": 17,
     "metadata": {},
     "output_type": "execute_result"
    }
   ],
   "source": [
    "xs"
   ]
  },
  {
   "cell_type": "code",
   "execution_count": 18,
   "id": "2c6c5b0d",
   "metadata": {},
   "outputs": [
    {
     "data": {
      "text/plain": [
       "[-0.47650694410049527,\n",
       " 1.2149185500119084,\n",
       " 0.466632919667336,\n",
       " -0.2971510043096569,\n",
       " -1.210149310559365,\n",
       " -0.3811409173512159,\n",
       " -0.9923328405305416]"
      ]
     },
     "execution_count": 18,
     "metadata": {},
     "output_type": "execute_result"
    }
   ],
   "source": [
    "ys"
   ]
  },
  {
   "cell_type": "code",
   "execution_count": 19,
   "id": "63a7b6d1",
   "metadata": {},
   "outputs": [
    {
     "name": "stdout",
     "output_type": "stream",
     "text": [
      "%pylab is deprecated, use %matplotlib inline and import the required libraries.\n",
      "Populating the interactive namespace from numpy and matplotlib\n"
     ]
    },
    {
     "data": {
      "text/plain": [
       "Text(0.5, 1.0, 'Plot of points against LSA principal components')"
      ]
     },
     "execution_count": 19,
     "metadata": {},
     "output_type": "execute_result"
    },
    {
     "data": {
      "image/png": "[encoded data removed]",
      "text/plain": [
       "<Figure size 640x480 with 1 Axes>"
      ]
     },
     "metadata": {},
     "output_type": "display_data"
    }
   ],
   "source": [
    "#Visualize the points on the orthogonal plot\n",
    "%pylab inline\n",
    "import matplotlib.pyplot as plt\n",
    "figure()\n",
    "plt.scatter(xs,ys)\n",
    "xlabel('First principal component')\n",
    "ylabel('Second principal component')\n",
    "title('Plot of points against LSA principal components')"
   ]
  },
  {
   "cell_type": "code",
   "execution_count": 21,
   "id": "8f5e62e0",
   "metadata": {},
   "outputs": [
    {
     "data": {
      "text/html": [
       "<div>\n",
       "<style scoped>\n",
       "    .dataframe tbody tr th:only-of-type {\n",
       "        vertical-align: middle;\n",
       "    }\n",
       "\n",
       "    .dataframe tbody tr th {\n",
       "        vertical-align: top;\n",
       "    }\n",
       "\n",
       "    .dataframe thead th {\n",
       "        text-align: right;\n",
       "    }\n",
       "</style>\n",
       "<table border=\"1\" class=\"dataframe\">\n",
       "  <thead>\n",
       "    <tr style=\"text-align: right;\">\n",
       "      <th></th>\n",
       "      <th>Machine learning is super fun</th>\n",
       "      <th>Python is super, super cool</th>\n",
       "      <th>Statistics is cool, too</th>\n",
       "      <th>Data science is fun</th>\n",
       "      <th>Python is great for machine learning</th>\n",
       "      <th>I like football</th>\n",
       "      <th>Football is great to watch</th>\n",
       "    </tr>\n",
       "  </thead>\n",
       "  <tbody>\n",
       "    <tr>\n",
       "      <th>Machine learning is super fun</th>\n",
       "      <td>2.699729</td>\n",
       "      <td>2.591039</td>\n",
       "      <td>0.277966</td>\n",
       "      <td>0.605000</td>\n",
       "      <td>2.535565</td>\n",
       "      <td>0.241326</td>\n",
       "      <td>0.851167</td>\n",
       "    </tr>\n",
       "    <tr>\n",
       "      <th>Python is super, super cool</th>\n",
       "      <td>2.591039</td>\n",
       "      <td>5.539901</td>\n",
       "      <td>1.208329</td>\n",
       "      <td>0.233071</td>\n",
       "      <td>1.041097</td>\n",
       "      <td>-0.386507</td>\n",
       "      <td>-0.720606</td>\n",
       "    </tr>\n",
       "    <tr>\n",
       "      <th>Statistics is cool, too</th>\n",
       "      <td>0.277966</td>\n",
       "      <td>1.208329</td>\n",
       "      <td>0.318981</td>\n",
       "      <td>-0.044895</td>\n",
       "      <td>-0.168328</td>\n",
       "      <td>-0.165771</td>\n",
       "      <td>-0.386507</td>\n",
       "    </tr>\n",
       "    <tr>\n",
       "      <th>Data science is fun</th>\n",
       "      <td>0.605000</td>\n",
       "      <td>0.233071</td>\n",
       "      <td>-0.044895</td>\n",
       "      <td>0.175146</td>\n",
       "      <td>0.726721</td>\n",
       "      <td>0.124447</td>\n",
       "      <td>0.365773</td>\n",
       "    </tr>\n",
       "    <tr>\n",
       "      <th>Python is great for machine learning</th>\n",
       "      <td>2.535565</td>\n",
       "      <td>1.041097</td>\n",
       "      <td>-0.168328</td>\n",
       "      <td>0.726721</td>\n",
       "      <td>3.016375</td>\n",
       "      <td>0.508541</td>\n",
       "      <td>1.500582</td>\n",
       "    </tr>\n",
       "    <tr>\n",
       "      <th>I like football</th>\n",
       "      <td>0.241326</td>\n",
       "      <td>-0.386507</td>\n",
       "      <td>-0.165771</td>\n",
       "      <td>0.124447</td>\n",
       "      <td>0.508541</td>\n",
       "      <td>0.146710</td>\n",
       "      <td>0.387354</td>\n",
       "    </tr>\n",
       "    <tr>\n",
       "      <th>Football is great to watch</th>\n",
       "      <td>0.851167</td>\n",
       "      <td>-0.720606</td>\n",
       "      <td>-0.386507</td>\n",
       "      <td>0.365773</td>\n",
       "      <td>1.500582</td>\n",
       "      <td>0.387354</td>\n",
       "      <td>1.042606</td>\n",
       "    </tr>\n",
       "  </tbody>\n",
       "</table>\n",
       "</div>"
      ],
      "text/plain": [
       "                                      Machine learning is super fun  \\\n",
       "Machine learning is super fun                              2.699729   \n",
       "Python is super, super cool                                2.591039   \n",
       "Statistics is cool, too                                    0.277966   \n",
       "Data science is fun                                        0.605000   \n",
       "Python is great for machine learning                       2.535565   \n",
       "I like football                                            0.241326   \n",
       "Football is great to watch                                 0.851167   \n",
       "\n",
       "                                      Python is super, super cool  \\\n",
       "Machine learning is super fun                            2.591039   \n",
       "Python is super, super cool                              5.539901   \n",
       "Statistics is cool, too                                  1.208329   \n",
       "Data science is fun                                      0.233071   \n",
       "Python is great for machine learning                     1.041097   \n",
       "I like football                                         -0.386507   \n",
       "Football is great to watch                              -0.720606   \n",
       "\n",
       "                                      Statistics is cool, too  \\\n",
       "Machine learning is super fun                        0.277966   \n",
       "Python is super, super cool                          1.208329   \n",
       "Statistics is cool, too                              0.318981   \n",
       "Data science is fun                                 -0.044895   \n",
       "Python is great for machine learning                -0.168328   \n",
       "I like football                                     -0.165771   \n",
       "Football is great to watch                          -0.386507   \n",
       "\n",
       "                                      Data science is fun  \\\n",
       "Machine learning is super fun                    0.605000   \n",
       "Python is super, super cool                      0.233071   \n",
       "Statistics is cool, too                         -0.044895   \n",
       "Data science is fun                              0.175146   \n",
       "Python is great for machine learning             0.726721   \n",
       "I like football                                  0.124447   \n",
       "Football is great to watch                       0.365773   \n",
       "\n",
       "                                      Python is great for machine learning  \\\n",
       "Machine learning is super fun                                     2.535565   \n",
       "Python is super, super cool                                       1.041097   \n",
       "Statistics is cool, too                                          -0.168328   \n",
       "Data science is fun                                               0.726721   \n",
       "Python is great for machine learning                              3.016375   \n",
       "I like football                                                   0.508541   \n",
       "Football is great to watch                                        1.500582   \n",
       "\n",
       "                                      I like football  \\\n",
       "Machine learning is super fun                0.241326   \n",
       "Python is super, super cool                 -0.386507   \n",
       "Statistics is cool, too                     -0.165771   \n",
       "Data science is fun                          0.124447   \n",
       "Python is great for machine learning         0.508541   \n",
       "I like football                              0.146710   \n",
       "Football is great to watch                   0.387354   \n",
       "\n",
       "                                      Football is great to watch  \n",
       "Machine learning is super fun                           0.851167  \n",
       "Python is super, super cool                            -0.720606  \n",
       "Statistics is cool, too                                -0.386507  \n",
       "Data science is fun                                     0.365773  \n",
       "Python is great for machine learning                    1.500582  \n",
       "I like football                                         0.387354  \n",
       "Football is great to watch                              1.042606  "
      ]
     },
     "execution_count": 21,
     "metadata": {},
     "output_type": "execute_result"
    }
   ],
   "source": [
    "# Compute document similarity using LSA components\n",
    "similarity = np.asarray(numpy.asmatrix(X_lsa) * numpy.asmatrix(X_lsa).T)\n",
    "df  = pd.DataFrame(similarity,index=example, columns=example).head(10)\n",
    "df"
   ]
  },
  {
   "cell_type": "code",
   "execution_count": 22,
   "id": "033170c2",
   "metadata": {},
   "outputs": [],
   "source": [
    "#Topic modeling with clustering\n",
    "from sklearn.cluster import KMeans, MiniBatchKMeans"
   ]
  },
  {
   "cell_type": "code",
   "execution_count": 24,
   "id": "87606fe3",
   "metadata": {},
   "outputs": [
    {
     "data": {
      "text/html": [
       "<style>#sk-container-id-1 {color: black;background-color: white;}#sk-container-id-1 pre{padding: 0;}#sk-container-id-1 div.sk-toggleable {background-color: white;}#sk-container-id-1 label.sk-toggleable__label {cursor: pointer;display: block;width: 100%;margin-bottom: 0;padding: 0.3em;box-sizing: border-box;text-align: center;}#sk-container-id-1 label.sk-toggleable__label-arrow:before {content: \"▸\";float: left;margin-right: 0.25em;color: #696969;}#sk-container-id-1 label.sk-toggleable__label-arrow:hover:before {color: black;}#sk-container-id-1 div.sk-estimator:hover label.sk-toggleable__label-arrow:before {color: black;}#sk-container-id-1 div.sk-toggleable__content {max-height: 0;max-width: 0;overflow: hidden;text-align: left;background-color: #f0f8ff;}#sk-container-id-1 div.sk-toggleable__content pre {margin: 0.2em;color: black;border-radius: 0.25em;background-color: #f0f8ff;}#sk-container-id-1 input.sk-toggleable__control:checked~div.sk-toggleable__content {max-height: 200px;max-width: 100%;overflow: auto;}#sk-container-id-1 input.sk-toggleable__control:checked~label.sk-toggleable__label-arrow:before {content: \"▾\";}#sk-container-id-1 div.sk-estimator input.sk-toggleable__control:checked~label.sk-toggleable__label {background-color: #d4ebff;}#sk-container-id-1 div.sk-label input.sk-toggleable__control:checked~label.sk-toggleable__label {background-color: #d4ebff;}#sk-container-id-1 input.sk-hidden--visually {border: 0;clip: rect(1px 1px 1px 1px);clip: rect(1px, 1px, 1px, 1px);height: 1px;margin: -1px;overflow: hidden;padding: 0;position: absolute;width: 1px;}#sk-container-id-1 div.sk-estimator {font-family: monospace;background-color: #f0f8ff;border: 1px dotted black;border-radius: 0.25em;box-sizing: border-box;margin-bottom: 0.5em;}#sk-container-id-1 div.sk-estimator:hover {background-color: #d4ebff;}#sk-container-id-1 div.sk-parallel-item::after {content: \"\";width: 100%;border-bottom: 1px solid gray;flex-grow: 1;}#sk-container-id-1 div.sk-label:hover label.sk-toggleable__label {background-color: #d4ebff;}#sk-container-id-1 div.sk-serial::before {content: \"\";position: absolute;border-left: 1px solid gray;box-sizing: border-box;top: 0;bottom: 0;left: 50%;z-index: 0;}#sk-container-id-1 div.sk-serial {display: flex;flex-direction: column;align-items: center;background-color: white;padding-right: 0.2em;padding-left: 0.2em;position: relative;}#sk-container-id-1 div.sk-item {position: relative;z-index: 1;}#sk-container-id-1 div.sk-parallel {display: flex;align-items: stretch;justify-content: center;background-color: white;position: relative;}#sk-container-id-1 div.sk-item::before, #sk-container-id-1 div.sk-parallel-item::before {content: \"\";position: absolute;border-left: 1px solid gray;box-sizing: border-box;top: 0;bottom: 0;left: 50%;z-index: -1;}#sk-container-id-1 div.sk-parallel-item {display: flex;flex-direction: column;z-index: 1;position: relative;background-color: white;}#sk-container-id-1 div.sk-parallel-item:first-child::after {align-self: flex-end;width: 50%;}#sk-container-id-1 div.sk-parallel-item:last-child::after {align-self: flex-start;width: 50%;}#sk-container-id-1 div.sk-parallel-item:only-child::after {width: 0;}#sk-container-id-1 div.sk-dashed-wrapped {border: 1px dashed gray;margin: 0 0.4em 0.5em 0.4em;box-sizing: border-box;padding-bottom: 0.4em;background-color: white;}#sk-container-id-1 div.sk-label label {font-family: monospace;font-weight: bold;display: inline-block;line-height: 1.2em;}#sk-container-id-1 div.sk-label-container {text-align: center;}#sk-container-id-1 div.sk-container {/* jupyter's `normalize.less` sets `[hidden] { display: none; }` but bootstrap.min.css set `[hidden] { display: none !important; }` so we also need the `!important` here to be able to override the default hidden behavior on the sphinx rendered scikit-learn.org. See: https://github.com/scikit-learn/scikit-learn/issues/21755 */display: inline-block !important;position: relative;}#sk-container-id-1 div.sk-text-repr-fallback {display: none;}</style><div id=\"sk-container-id-1\" class=\"sk-top-container\"><div class=\"sk-text-repr-fallback\"><pre>KMeans(max_iter=200, n_clusters=2, n_init=100)</pre><b>In a Jupyter environment, please rerun this cell to show the HTML representation or trust the notebook. <br />On GitHub, the HTML representation is unable to render, please try loading this page with nbviewer.org.</b></div><div class=\"sk-container\" hidden><div class=\"sk-item\"><div class=\"sk-estimator sk-toggleable\"><input class=\"sk-toggleable__control sk-hidden--visually\" id=\"sk-estimator-id-1\" type=\"checkbox\" checked><label for=\"sk-estimator-id-1\" class=\"sk-toggleable__label sk-toggleable__label-arrow\">KMeans</label><div class=\"sk-toggleable__content\"><pre>KMeans(max_iter=200, n_clusters=2, n_init=100)</pre></div></div></div></div></div>"
      ],
      "text/plain": [
       "KMeans(max_iter=200, n_clusters=2, n_init=100)"
      ]
     },
     "execution_count": 24,
     "metadata": {},
     "output_type": "execute_result"
    }
   ],
   "source": [
    "# Clustering the training sentences with K-means technique\n",
    "modelkmeans = KMeans(n_clusters=2, init='k-means++', max_iter=200, n_init=100)\n",
    "modelkmeans.fit(X)"
   ]
  },
  {
   "cell_type": "code",
   "execution_count": 25,
   "id": "70a893f5",
   "metadata": {},
   "outputs": [
    {
     "name": "stdout",
     "output_type": "stream",
     "text": [
      "[0]\n",
      "[0]\n",
      "[1]\n",
      "[1]\n",
      "[0]\n",
      "[1]\n",
      "[1]\n"
     ]
    }
   ],
   "source": [
    "for doc in X:\n",
    "    print(modelkmeans.predict(doc))\n"
   ]
  },
  {
   "cell_type": "code",
   "execution_count": null,
   "id": "3636a579",
   "metadata": {},
   "outputs": [],
   "source": []
  }
 ],
 "metadata": {
  "kernelspec": {
   "display_name": "Python 3 (ipykernel)",
   "language": "python",
   "name": "python3"
  },
  "language_info": {
   "codemirror_mode": {
    "name": "ipython",
    "version": 3
   },
   "file_extension": ".py",
   "mimetype": "text/x-python",
   "name": "python",
   "nbconvert_exporter": "python",
   "pygments_lexer": "ipython3",
   "version": "3.10.9"
  }
 },
 "nbformat": 4,
 "nbformat_minor": 5
}
